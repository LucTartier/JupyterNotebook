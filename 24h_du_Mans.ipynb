{
  "nbformat": 4,
  "nbformat_minor": 0,
  "metadata": {
    "colab": {
      "name": "24h du Mans.ipynb",
      "provenance": [],
      "toc_visible": true,
      "authorship_tag": "ABX9TyMpTcLJkjAp0QzxSRC+vINj",
      "include_colab_link": true
    },
    "kernelspec": {
      "name": "python3",
      "display_name": "Python 3"
    },
    "language_info": {
      "name": "python"
    }
  },
  "cells": [
    {
      "cell_type": "markdown",
      "metadata": {
        "id": "view-in-github",
        "colab_type": "text"
      },
      "source": [
        "<a href=\"https://colab.research.google.com/github/LucTartier/JupyterNotebook/blob/main/24h_du_Mans.ipynb\" target=\"_parent\"><img src=\"https://colab.research.google.com/assets/colab-badge.svg\" alt=\"Open In Colab\"/></a>"
      ]
    },
    {
      "cell_type": "markdown",
      "source": [
        "# On est en 2022, et ce genre de \"divertissement\" est toujours autorisé...\n",
        "\n",
        "<p align=\"right\">Luc Tartier 2022</p>  <img src=\"https://drive.google.com/uc?id=1ZnOfF0yTeDmOsqJcueSp2EqLeFVXbil5\" align=\"right\"/>"
      ],
      "metadata": {
        "id": "y8ieBbnJLiD2"
      }
    },
    {
      "cell_type": "markdown",
      "source": [
        "## A] 24h du Mans Camion ? C'est autorisé, ça?\n",
        "\n",
        "Ca ne va pas être facile d'être objectif... Apparemment, la liberté des gens à polluer pour s'amuser est sacrée..?\n",
        "<img src=\"https://drive.google.com/uc?id=1W0-unGXYSOzxaUTv_8rmRJf7LL1a-V2E\" align=\"center\"/><p>\n",
        "Extrait du site [lemans.org](https://www.lemans.org/fr/news/retrospective-2021-24-heures-camions-un-40e-anniversaire-dignement-fete/55829): \n",
        "<p>\n",
        "36e édition deux jours de \"fête\"  les 25 et 26 septembre 2021, 48 000 spectateurs, l'ultime manche du Championnat de France et l'antépénultième étape du Championnat d’Europe de la FIA.\n",
        "<p>\n",
        "UN CARBURANT 100% DURABLE POUR LES CAMIONS DU FIA ETRC, \n",
        "le biodiesel [HVO100](https://services.totalenergies.fr/pro/produits-services/carburants/carburants-adaptes-professionnels/total-hvo)\n",
        "\n",
        "HVO signifie \"Hydrotreated Vegetable Oil\" (huile végétale hydrotraitée).\n",
        "\n",
        "**Questions:** Combien d'hectares, d'engrais, de pesticides sont nécessaires pour faire rouler ces jolis camions ?\n",
        "\n",
        "Il ne s'agit pas comme pour les voitures de rouler 24h d'affilée, il y a un grand nombre de courses ([programme](https://www.intensemans.fr/2021/09/24/le-programme-des-24-heures-camions-2021-infos-pratiques/) )\n",
        "<p>\n",
        "\n",
        "La course 4 du championat de France de 17h50 à 18h15:\n",
        "\n",
        "Avec 17 participants, le vainqueur à mis 19min34s pour 45km (+/- 1 tour ?) sur le [circuit Bugatti](https://fr.wikipedia.org/wiki/Circuit_Bugatti) de 4185 m de long.\n",
        "  "
      ],
      "metadata": {
        "id": "ZbeonFy_L_PA"
      }
    },
    {
      "cell_type": "code",
      "execution_count": 2,
      "metadata": {
        "id": "TH4j8l-ALN83",
        "colab": {
          "base_uri": "https://localhost:8080/"
        },
        "cellView": "form",
        "outputId": "5dce47dd-eb75-4289-c2e1-9de893490711"
      },
      "outputs": [
        {
          "output_type": "stream",
          "name": "stdout",
          "text": [
            "Vitesse moyenne du vainqueur = 141.16 km/h sur 46.03 km  soit  11.00 tours\n"
          ]
        }
      ],
      "source": [
        "#@title\n",
        "#1 Si on n’importait pas de librairies certaines fonctions ne seraient pas définies !\n",
        "import numpy as np # On importe et on renomme le module numpy\n",
        "import matplotlib.pyplot as plt # On importe et on renomme le module matplotlib.pyplot\n",
        "n=np.ceil(45/4.185) #On cherche le nombre de tour (entier)\n",
        "Distance=4.185*n #km\n",
        "Temps=(19*60+34)/3600 #h\n",
        "Vitesse=Distance/Temps\n",
        "print(\"Vitesse moyenne du vainqueur = {:.2f} km/h sur {:.2f} km \\\n",
        " soit  {:.2f} tours\".format(Vitesse,Distance,n))"
      ]
    },
    {
      "cell_type": "markdown",
      "source": [
        "### Beau comme un camion Freightliner VK50 (prototype)\n",
        "\n",
        "Pas facile de trouver les infos !!!\n",
        "D'après le [dossier de presse](https://assets.lemans.org/explorer/pdf/courses/2021/24-heures-camions/2021-24-heures-camions-dossier-presse.pdf), les camions doivent avoir une masse minimale de 5400 kg. Le mot consommation n'apparait qu'une seule fois, mais pas de chiffre...\n",
        "\n",
        "Le camion vainqueur avait une puissance de 1200 chevaux vapeurs = 1200×735,5 = 883 kW.\n",
        "\n",
        "Sur [ce site](https://www.auto-moto.com/essais/emotion/conduite-camion-de-course-138728.html#item=1), enfin des infos !\n",
        "100L pour 100 km !!!\n",
        "\n",
        "<img src=\"https://drive.google.com/uc?id=1W1Lmp4PmjvPUKeWvWnge56vPNs3pJEgA\" align=\"center\"/><p>\n",
        "Reprenons donc les calculs... \n",
        "* D'après le producteur HVO100 est un biocarburant produit à partir de matières \n",
        "premières végétales, résiduelles ou de déchets certifié durable...\n",
        "* D'après [ce site](https://grain.org/fr/article/4654-il-faut-arreter-d-accaparer-les-terres-pour-produire-des-biocarburants),  L’Europe est le moteur principal de l’accaparement des terres pour la production de biocarburants,(...) la Commission européenne, fixe l’objectif de consommation de biocarburants à 40 Mtep (millions de tonnes d’équivalent pétrole) pour 2020.\n",
        "* D'après [ce rapport du sénat](https://www.senat.fr/rap/r07-189/r07-18913.html), 1ha de palmier à huile peut produire 4000 L de biodiesel.\n",
        "\n",
        "\n"
      ],
      "metadata": {
        "id": "lFpZR36iUD3D"
      }
    },
    {
      "cell_type": "code",
      "source": [
        "#@title\n",
        "# Consommation d'un camion pour la course 4\n",
        "NombreVehicules=14\n",
        "DistanceTotale=Distance*NombreVehicules\n",
        "VolumeGazole=DistanceTotale*1 #L pour chaque km !\n",
        "ConsommationC4=5.5 #L pour 100km\n",
        "DistanceC4=VolumeGazole/5.5*100 #km\n",
        "print(\"Pour cette course, ils ont gaspillés = {:.0f}L de Gazole à tourner en rond, ce qui m'aurait permis de parcourir {:.0f} km \".format(VolumeGazole,DistanceC4))\n",
        "NombreVehicules=14\n",
        "print(\"Mais ils s'agit évidemment d'une seule course qui a duré 20 minutes alors que la grande fête du bruit a duré 2 jours...\")"
      ],
      "metadata": {
        "id": "d8VHjWhEVeIA",
        "colab": {
          "base_uri": "https://localhost:8080/"
        },
        "cellView": "form",
        "outputId": "8b5e7b4d-eb01-4f15-afe2-05d527e1e1ea"
      },
      "execution_count": 3,
      "outputs": [
        {
          "output_type": "stream",
          "name": "stdout",
          "text": [
            "Pour cette course, ils ont gaspillés = 644L de Gazole à tourner en rond, ce qui m'aurait permis de parcourir 11718 km \n",
            "Mais ils s'agit évidemment d'une seule course qui a duré 20 minutes alors que la grande fête du bruit a duré 2 jours...\n"
          ]
        }
      ]
    },
    {
      "cell_type": "markdown",
      "source": [
        "## B] 24h à tourner en rond en voiture... Branchez la navigation !\n",
        "Allez c'est parti pour 371 tours de piste à 3 pilotes sur [une voiture](https://www.carscoops.com/2021/01/toyota-gr010-hybrid-unveiled-with-twin-turbo-3-5-liter-v6-for-le-mans-hypercar-class/) dont le moteur a une cylindrée de 3,5L (6 cylindres en V) Bi-Turbo Hybride.\n",
        "\n",
        "Comme son nom l'indique, il y a aussi un moteur électrique pour une puissance totale de 680 chevaux soit 680 × 735,5 = 500kW pour une masse de 1040 kg.\n",
        "\n",
        "Le circuit mesure 13,626 m pour 23 tutures de course...\n",
        "\n",
        "<img src=\"https://drive.google.com/uc?id=1W3nrUCwmXkhHX-dxJPoOWIZO6CtAooAh\" align=\"center\"/><p>\n",
        "Y a pas que le carburant, quel gaspillage d'énergie et de ressources pour faire du sur-place...\n"
      ],
      "metadata": {
        "id": "BCaD9QxMVmMD"
      }
    },
    {
      "cell_type": "code",
      "source": [
        "#@title\n",
        "n=371 # tours\n",
        "Distance=13.626*n #km\n",
        "Temps=24 #h\n",
        "Vitesse=Distance/Temps\n",
        "print(\"Vitesse moyenne du vainqueur = {:.2f} km/h sur {:.2f} km \\\n",
        " soit  {:.2f} tours\".format(Vitesse,Distance,n))\n",
        "temps=1/Vitesse*3600 #s pour faire un tour\n",
        "print(\"Pas le temps de regarder le paysage, 1km s'effectue en {:.1f} s...\".format(temps))"
      ],
      "metadata": {
        "colab": {
          "base_uri": "https://localhost:8080/"
        },
        "id": "jC4pJ7ysWB4c",
        "outputId": "6c1c0672-8164-42e5-b683-3d5da4fdb864",
        "cellView": "form"
      },
      "execution_count": 4,
      "outputs": [
        {
          "output_type": "stream",
          "name": "stdout",
          "text": [
            "Vitesse moyenne du vainqueur = 210.64 km/h sur 5055.25 km  soit  371.00 tours\n",
            "Pas le temps de regarder le paysage, 1km s'effectue en 17.1 s...\n"
          ]
        }
      ]
    },
    {
      "cell_type": "markdown",
      "source": [
        "### et en prime: Des montagnes de pneus, 248 000 L de carburant, une armée de journalistes, 260 000 spectateurs, 70 jets d’affaire ([Source](https://www.ouest-france.fr/sport/24-heures-du-mans/les-24-heures-du-mans-une-logistique-de-dingue-6397909))\n",
        "\n",
        "Ben, non, on peut pas supprimer des emplois... mais si on demandait à ces gens de faire autre chose ?\n",
        "\n",
        "\"Consommation : **entre 35 et 40 litres** aux cent kilomètres. Mais grâce à la technologie développée ici, la consommation des 24 Heures a été divisée par deux entre 1970 à 2010. Les voitures hybrides font encore baisser la consommation et l’on annonce d’ici 2024 des moteurs à hydrogène, avec zéro émission de CO2.\"\n",
        "<p>\n",
        "\n",
        "**C'est bien mais :** Rappelons que construire ces batteries ou utiliser de l'hydrogène provenant des hyrocarbures (95%) c'est simplement déplacer la pollution. Tant mieux pour les spectateurs, tant pis pour le reste du monde.\n",
        "\n"
      ],
      "metadata": {
        "id": "zCxxY_SPjMJh"
      }
    },
    {
      "cell_type": "code",
      "source": [
        "#@title\n",
        "# Consommation minimale d'une voiture\n",
        "VolumeCarburant=Distance*35/100 # 35L pour 100 km !\n",
        "ConsommationC4=5.5 #L pour 100km\n",
        "DistanceC4=VolumeCarburant/5.5*100 #km\n",
        "print(\"Pour cette course, le vainqueur a consommé en 1 jour {:,.0f}L de carburant à tourner en rond sur {:,.0f} km,\\\n",
        " ce qui m'aurait permis de parcourir {:,.0f} km \".format(VolumeCarburant,Distance,DistanceC4))\n",
        "NombreVehicules=23\n",
        "VolumeCarburant=248000 #L pour une seule course.\n",
        "DistanceC4=VolumeCarburant/5.5*100 #km\n",
        "n=DistanceC4/40000\n",
        "print(\"Pour cette course, les {:.0f} voitures ont consommé en 1 jour {:,.0f}L de carburant à tourner en rond, \\\n",
        "ce qui m'aurait permis de parcourir {:,.0f} km, soit {:.0f} fois le tour de la Terre !\".format(NombreVehicules,VolumeCarburant,DistanceC4,n))\n",
        "Spectateurs=260000\n",
        "VoitureSpectateurs=Spectateurs/4 # et vive le co-voiturage...\n",
        "DistanceSpectateurs=100*VoitureSpectateurs #km et c'est sous-estimé je pense...\n",
        "CarburantSpectateurs=VoitureSpectateurs*5.5 #L  S'ils ont roulé lentement...\n",
        "print(\"Pour les {:,.0f} Spectateurs, s'ils sont venus à 4 par voiture ({:,.0f} voitures ?) sur 100 km en moyenne, ils ont consommé {:,.0f} L\\\n",
        "de carburant distantance parcourue = {:,.0f} km !\".format(Spectateurs,VoitureSpectateurs,CarburantSpectateurs,DistanceSpectateurs))\n",
        "print(\"Est-ce possible? Encore plus de carburant pour les spectateurs ? Et les 70 Jets d'affaire ?\")"
      ],
      "metadata": {
        "colab": {
          "base_uri": "https://localhost:8080/"
        },
        "cellView": "form",
        "id": "IszT7a-alAxP",
        "outputId": "656c982f-0e7c-4f4e-a47a-ab43c8a4523d"
      },
      "execution_count": 43,
      "outputs": [
        {
          "output_type": "stream",
          "name": "stdout",
          "text": [
            "Pour cette course, le vainqueur a consommé en 1 jour 1,769L de carburant à tourner en rond sur 5,055 km, ce qui m'aurait permis de parcourir 32,170 km \n",
            "Pour cette course, les 23 voitures ont consommé en 1 jour 248,000L de carburant à tourner en rond, ce qui m'aurait permis de parcourir 4,509,091 km, soit 113 fois le tour de la Terre !\n",
            "Pour les 260,000 Spectateurs, s'ils sont venus à 4 par voiture (65,000 voitures ?) sur 100 km en moyenne, ils ont consommé 357,500 Lde carburant distantance parcourue = 6,500,000 km !\n",
            "Est-ce possible? Encore plus de carburant pour les spectateurs ? Et les 70 Jets d'affaire ?\n"
          ]
        }
      ]
    },
    {
      "cell_type": "markdown",
      "source": [
        "## C] Et les motos, ça consomme quoi ?\n",
        "\n",
        "\"*Tu me fais tourner, la tête...*\" 3 pilotes pour **840 tours** en 2022 (15 de moins qu'en 2021) sur le circuit Bugatti de 4185 m de long.\n",
        "<p>\n",
        "Comme c'est plus petit, on peut mettre 52 motocyclettes... \n",
        "\n",
        "**Consommer le moins possible**: Effectuer deux tours de plus que la concurrence sur chaque relais permet d’en économiser un à la fin de la course. Une pression basse (dans les pneus) apporte beaucoup d’adhérence au détriment de la consommation et du comportement de la moto. [Source](https://www.lemans.org/fr/news/les-cles-de-la-victoire-aux-24-heures-motos/56156)\n",
        "<p>\n",
        "Encore une fois, pas facile de trouver des chiffres de la consommation de carburant. 20L pour 100 km.\n",
        "\n",
        "<img src=\"https://drive.google.com/uc?id=1W6gyF3ZVsbJlirgO-ZcsOzQGRNHopjuT\" align=\"center\"/><p>\n",
        "On voit sur la photo, qu'en fait, les pilotes ont des jambes..."
      ],
      "metadata": {
        "id": "ZZ45_Ljsg60s"
      }
    },
    {
      "cell_type": "code",
      "source": [
        "#@title\n",
        "n=840 #tours\n",
        "Distance=4.185*n #km\n",
        "ConsomationMoto=20 #@param {type:\"number\"}\n",
        "VolumeCarburant=Distance/100*ConsomationMoto #L\n",
        "ConsommationC4=5.5 #L pour 100km\n",
        "DistanceC4=VolumeCarburant/5.5*100 #km\n",
        "print(\"Pour cette course, les vainqueurs ont consommé en 1 jour {:.0f}L de carburant à tourner en rond sur {:,.0f} km,\\\n",
        " ce qui m'aurait permis de parcourir {:,.0f} km \".format(VolumeCarburant,Distance,DistanceC4))\n",
        "ConsomationMotoTotale=VolumeCarburant*52\n",
        "DistanceC4=ConsomationMotoTotale/5.5*100 #km\n",
        "n=DistanceC4/40000\n",
        "print(\"C'est moins qu'une voiture, mais comme ils étaient 52 motos, cette course\\\n",
        " a consommé {:,.0f}L de carburant avec lesquels j'aurais pu faire {:,.0f}km \\\n",
        " soit {:,.0f} fois le tour de la Terre\".format(ConsomationMotoTotale,DistanceC4,n))\n",
        "print(\"Ajouter les spectateurs, les déchets (plastiques), les jets privés, les pneus, la pub, etc...\")"
      ],
      "metadata": {
        "colab": {
          "base_uri": "https://localhost:8080/"
        },
        "id": "2zKPhqathAeN",
        "outputId": "8727b81c-68bc-4e0c-bb7e-810f95bd9bd3",
        "cellView": "form"
      },
      "execution_count": 51,
      "outputs": [
        {
          "output_type": "stream",
          "name": "stdout",
          "text": [
            "Pour cette course, les vainqueurs ont consommé en 1 jour 703L de carburant à tourner en rond sur 3,515 km, ce qui m'aurait permis de parcourir 12,783 km \n",
            "C'est moins qu'une voiture, mais comme ils étaient 52 motos, cette course a consommé 36,560L de carburant avec lesquels j'aurais pu faire 664,730km  soit 17 fois le tour de la Terre\n",
            "Ajouter les spectateurs, les déchets (plastiques), les jets privés, les pneus, la pub, etc...\n"
          ]
        }
      ]
    },
    {
      "cell_type": "markdown",
      "source": [
        "### RCA: pénurie d’essence à Bangui ([Source RFI](https://www.rfi.fr/fr/afrique/20190611-rca-bangui-penurie-essence))\n",
        "\n",
        "Mais, pas de raison de culpabiliser...\n",
        "<img src=\"https://drive.google.com/uc?id=1W7DbQ8Gsfp0o8P0E0CrhMuZzVcUvFOm4\" align=\"center\"/><p>\n",
        "\n"
      ],
      "metadata": {
        "id": "XDbWt1e7qsvW"
      }
    }
  ]
}