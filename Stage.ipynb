{
 "cells": [
  {
   "cell_type": "markdown",
   "id": "ea84f3c2",
   "metadata": {},
   "source": [
    "# Bonus Python Pas à Pas\n",
    " En liaison avec le sujet Bac 2P274 https://www.lelivrescolaire.fr/page/9453575\n",
    " \n",
    " Carnet Jupyter pour tout revoir étape par étape"
   ]
  },
  {
   "cell_type": "code",
   "execution_count": 9,
   "id": "59a56d51",
   "metadata": {},
   "outputs": [],
   "source": [
    "#1 Si on n’importait pas de librairies certaines fonctions ne seraient pas définies !\n",
    "!{sys.executable} -m pip install numpy\n",
    "!{sys.executable} -m pip install matplotlib\n",
    "\n",
    "import numpy as np # On importe et on renomme le module numpy\n",
    "import matplotlib.pyplot as plt # On importe et on renomme le module matplotlib.pyplot"
   ]
  },
  {
   "cell_type": "markdown",
   "id": "571eacdc",
   "metadata": {},
   "source": [
    "Définition des variables liées à l'exercices\n",
    "<img src=\"tube.jpg\" style=\"width:100%\"/>"
   ]
  },
  {
   "cell_type": "code",
   "execution_count": 10,
   "id": "731cddfb",
   "metadata": {},
   "outputs": [],
   "source": [
    "DE=1.5 #cm distance entre les électrodes D et E\n",
    "L=5 #cm longueur des électrodes D et E\n",
    "# On fait passer les électrons horizontalement au milieu des électrodes C et D\n",
    "Ec = 300*1.6E-19 # L'énergie cinétique en Joules des électrons de charge -|e| en Coulomb accélérés par 300V\n",
    "m = 0.911E-30 #kg masse des électrons"
   ]
  },
  {
   "cell_type": "markdown",
   "id": "18ac2ae6",
   "metadata": {},
   "source": [
    "Remplacer la valeur vx=0 avec la formule permettant de calculer la vitesse vx."
   ]
  },
  {
   "cell_type": "code",
   "execution_count": null,
   "id": "17c162cc",
   "metadata": {},
   "outputs": [],
   "source": [
    "# Rappel: Ec=0.5*m*v² Retrouver v en utilisant la racine carrée du module numpy : np.sqrt()\n",
    "vx = 0 #m/s adapter avec une formule !\n",
    "vy = 0 #m/s sera modifié plus tard avec la seconde loi de Newton\n",
    "print(\"La vitesse des électrons avant le condensateur plan est v = {:.2e} m/s\".format(vx)) \n",
    "# Avec cette écriture on a .2 décimales e en format scientifique"
   ]
  },
  {
   "cell_type": "markdown",
   "id": "d907b0ef",
   "metadata": {},
   "source": [
    "Ecrire la CONDITION qui permet de tester si les électrons sont relativistes (relativistes si Vx>c/100 = 3 000 km/s)"
   ]
  },
  {
   "cell_type": "code",
   "execution_count": null,
   "id": "ae6debbc",
   "metadata": {},
   "outputs": [],
   "source": [
    "if CONDITION :\n",
    "  print(\"Ils  sont  relativistes !\")  \n",
    "else:\n",
    "  print(\"Ils ne sont pas relativistes.\") "
   ]
  }
 ],
 "metadata": {
  "kernelspec": {
   "display_name": "Python 3 (ipykernel)",
   "language": "python",
   "name": "python3"
  },
  "language_info": {
   "codemirror_mode": {
    "name": "ipython",
    "version": 3
   },
   "file_extension": ".py",
   "mimetype": "text/x-python",
   "name": "python",
   "nbconvert_exporter": "python",
   "pygments_lexer": "ipython3",
   "version": "3.9.7"
  }
 },
 "nbformat": 4,
 "nbformat_minor": 5
}
