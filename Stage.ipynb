{
 "cells": [
  {
   "cell_type": "markdown",
   "id": "994b9fb7",
   "metadata": {},
   "source": [
    "# Bonus Python Pas à Pas\n",
    " En liaison avec le sujet Bac 2P274 https://www.lelivrescolaire.fr/page/9453575\n",
    " \n",
    " Carnet Jupyter pour tout revoir étape par étape"
   ]
  },
  {
   "cell_type": "code",
   "execution_count": 19,
   "id": "1af7fd32",
   "metadata": {
    "scrolled": false
   },
   "outputs": [
    {
     "name": "stdout",
     "output_type": "stream",
     "text": [
      "Requirement already satisfied: numpy in c:\\programdata\\anaconda3\\lib\\site-packages (1.20.3)\n",
      "Requirement already satisfied: matplotlib in c:\\programdata\\anaconda3\\lib\\site-packages (3.4.3)\n",
      "Requirement already satisfied: python-dateutil>=2.7 in c:\\programdata\\anaconda3\\lib\\site-packages (from matplotlib) (2.8.2)\n",
      "Requirement already satisfied: kiwisolver>=1.0.1 in c:\\programdata\\anaconda3\\lib\\site-packages (from matplotlib) (1.3.1)\n",
      "Requirement already satisfied: numpy>=1.16 in c:\\programdata\\anaconda3\\lib\\site-packages (from matplotlib) (1.20.3)\n",
      "Requirement already satisfied: cycler>=0.10 in c:\\programdata\\anaconda3\\lib\\site-packages (from matplotlib) (0.10.0)\n",
      "Requirement already satisfied: pyparsing>=2.2.1 in c:\\programdata\\anaconda3\\lib\\site-packages (from matplotlib) (3.0.4)\n",
      "Requirement already satisfied: pillow>=6.2.0 in c:\\programdata\\anaconda3\\lib\\site-packages (from matplotlib) (8.4.0)\n",
      "Requirement already satisfied: six in c:\\programdata\\anaconda3\\lib\\site-packages (from cycler>=0.10->matplotlib) (1.16.0)\n"
     ]
    }
   ],
   "source": [
    "#1 Si on n’importait pas de librairies certaines fonctions ne seraient pas définies !\n",
    "import sys\n",
    "!{sys.executable} -m pip install numpy\n",
    "!{sys.executable} -m pip install matplotlib\n",
    "\n",
    "import numpy as np # On importe et on renomme le module numpy\n",
    "import matplotlib.pyplot as plt # On importe et on renomme le module matplotlib.pyplot"
   ]
  },
  {
   "cell_type": "markdown",
   "id": "d2fb5865",
   "metadata": {},
   "source": [
    "Définition des variables liées à l'exercices\n",
    "<img src=\"Tube.jpg\" style=\"width:100%\"/>"
   ]
  },
  {
   "cell_type": "code",
   "execution_count": 20,
   "id": "aebfb9f9",
   "metadata": {},
   "outputs": [],
   "source": [
    "DE=1.5 #cm distance entre les électrodes D et E\n",
    "L=5 #cm longueur des électrodes D et E\n",
    "# On fait passer les électrons horizontalement au milieu des électrodes C et D\n",
    "Ec = 300*1.6E-19 # L'énergie cinétique en Joules des électrons de charge -|e| en Coulomb accélérés par 300V\n",
    "m = 0.911E-30 #kg masse des électrons"
   ]
  },
  {
   "cell_type": "markdown",
   "id": "c7c1e20e",
   "metadata": {},
   "source": [
    "Remplacer la valeur vx=0 avec la formule permettant de calculer la vitesse vx."
   ]
  },
  {
   "cell_type": "code",
   "execution_count": 21,
   "id": "68223e6e",
   "metadata": {},
   "outputs": [
    {
     "name": "stdout",
     "output_type": "stream",
     "text": [
      "La vitesse des électrons avant le condensateur plan est v = 0.00e+00 m/s\n"
     ]
    }
   ],
   "source": [
    "# Rappel: Ec=0.5*m*v² Retrouver v en utilisant la racine carrée du module numpy : np.sqrt()\n",
    "vx = 0 #m/s adapter avec une formule !\n",
    "vy = 0 #m/s sera modifié plus tard avec la seconde loi de Newton\n",
    "print(\"La vitesse des électrons avant le condensateur plan est v = {:.2e} m/s\".format(vx)) \n",
    "# Avec cette écriture on a .2 décimales e en format scientifique"
   ]
  },
  {
   "cell_type": "markdown",
   "id": "ec476e0a",
   "metadata": {},
   "source": [
    "Ecrire la CONDITION qui permet de tester si les électrons sont relativistes (relativistes si Vx>c/100 = 3 000 km/s)"
   ]
  },
  {
   "cell_type": "code",
   "execution_count": 17,
   "id": "97693eb8",
   "metadata": {},
   "outputs": [
    {
     "ename": "NameError",
     "evalue": "name 'CONDITION' is not defined",
     "output_type": "error",
     "traceback": [
      "\u001b[1;31m---------------------------------------------------------------------------\u001b[0m",
      "\u001b[1;31mNameError\u001b[0m                                 Traceback (most recent call last)",
      "\u001b[1;32mC:\\Users\\LUCLEN~1\\AppData\\Local\\Temp/ipykernel_15156/3723117669.py\u001b[0m in \u001b[0;36m<module>\u001b[1;34m\u001b[0m\n\u001b[1;32m----> 1\u001b[1;33m \u001b[1;32mif\u001b[0m \u001b[0mCONDITION\u001b[0m \u001b[1;33m:\u001b[0m\u001b[1;33m\u001b[0m\u001b[1;33m\u001b[0m\u001b[0m\n\u001b[0m\u001b[0;32m      2\u001b[0m   \u001b[0mprint\u001b[0m\u001b[1;33m(\u001b[0m\u001b[1;34m\"Ils  sont  relativistes !\"\u001b[0m\u001b[1;33m)\u001b[0m\u001b[1;33m\u001b[0m\u001b[1;33m\u001b[0m\u001b[0m\n\u001b[0;32m      3\u001b[0m \u001b[1;32melse\u001b[0m\u001b[1;33m:\u001b[0m\u001b[1;33m\u001b[0m\u001b[1;33m\u001b[0m\u001b[0m\n\u001b[0;32m      4\u001b[0m   \u001b[0mprint\u001b[0m\u001b[1;33m(\u001b[0m\u001b[1;34m\"Ils ne sont pas relativistes.\"\u001b[0m\u001b[1;33m)\u001b[0m\u001b[1;33m\u001b[0m\u001b[1;33m\u001b[0m\u001b[0m\n",
      "\u001b[1;31mNameError\u001b[0m: name 'CONDITION' is not defined"
     ]
    }
   ],
   "source": [
    "if CONDITION :\n",
    "  print(\"Ils  sont  relativistes !\")  \n",
    "else:\n",
    "  print(\"Ils ne sont pas relativistes.\") "
   ]
  }
 ],
 "metadata": {
  "kernelspec": {
   "display_name": "Python 3 (ipykernel)",
   "language": "python",
   "name": "python3"
  },
  "language_info": {
   "codemirror_mode": {
    "name": "ipython",
    "version": 3
   },
   "file_extension": ".py",
   "mimetype": "text/x-python",
   "name": "python",
   "nbconvert_exporter": "python",
   "pygments_lexer": "ipython3",
   "version": "3.9.7"
  }
 },
 "nbformat": 4,
 "nbformat_minor": 5
}
