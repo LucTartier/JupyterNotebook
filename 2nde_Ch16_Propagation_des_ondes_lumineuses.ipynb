{
  "nbformat": 4,
  "nbformat_minor": 0,
  "metadata": {
    "colab": {
      "name": "2nde Ch16 Propagation des ondes lumineuses.ipynb",
      "provenance": [],
      "toc_visible": true,
      "collapsed_sections": [],
      "authorship_tag": "ABX9TyOLvPpc0q6mcPoqZVOjJ6Ad",
      "include_colab_link": true
    },
    "kernelspec": {
      "name": "python3",
      "display_name": "Python 3"
    },
    "language_info": {
      "name": "python"
    }
  },
  "cells": [
    {
      "cell_type": "markdown",
      "metadata": {
        "id": "view-in-github",
        "colab_type": "text"
      },
      "source": [
        "<a href=\"https://colab.research.google.com/github/LucTartier/JupyterNotebook/blob/main/2nde_Ch16_Propagation_des_ondes_lumineuses.ipynb\" target=\"_parent\"><img src=\"https://colab.research.google.com/assets/colab-badge.svg\" alt=\"Open In Colab\"/></a>"
      ]
    },
    {
      "cell_type": "markdown",
      "source": [
        "#**Chapitre 16 : Propagation des ondes lumineuses<p>**\n",
        " Ce document constitue la trame du cours du[ chapitre 16 (à lire également) :](https://www.lelivrescolaire.fr/page/6225378)  **Ne pas imprimer**, mais recopier **à la main** les titres et les parties notées **Trace écrite**.\n",
        "\n",
        "<p align=\"right\">Luc Tartier 2022</p>  <img src=\"https://drive.google.com/uc?id=1ZnOfF0yTeDmOsqJcueSp2EqLeFVXbil5\" align=\"right\"/>"
      ],
      "metadata": {
        "id": "H1dAvt7IRmcc"
      }
    },
    {
      "cell_type": "code",
      "execution_count": null,
      "metadata": {
        "id": "2wzyJKV2Rhqm"
      },
      "outputs": [],
      "source": [
        "#@title Importation des librairies\n",
        "#1 Si on n’importait pas de librairies certaines fonctions ne seraient pas définies !\n",
        "import numpy as np # On importe et on renomme le module numpy\n",
        "import matplotlib.pyplot as plt # On importe et on renomme le module matplotlib.pyplot\n",
        "import scipy as sp # constantes scientifiques, FFT...\n",
        "import sympy as sym # Maths symboliques\n",
        "from IPython.display import display, Math, Latex"
      ]
    },
    {
      "cell_type": "code",
      "execution_count": null,
      "metadata": {
        "id": "SL2Mj6iiCydr"
      },
      "outputs": [],
      "source": [
        "#https://docs.scipy.org/doc/scipy/reference/constants.html#module-scipy.constants\n",
        "print(sp.constants.c,sp.constants.m_e,sp.constants.physical_constants['alpha particle mass in u'])\n",
        "# print(\"Concentration massique \\N{greek small letter gamma} = t = {:.2f} g/L\".format(t))"
      ]
    },
    {
      "cell_type": "markdown",
      "source": [
        "---\n",
        "**Trace écrite:** *Vous devez recopier **à la main** les titres, les schémas et les paragraphes entre ces balises !* <p>\n",
        "#A. Changement de milieu de propagation \n"
      ],
      "metadata": {
        "id": "7m03boyESbkn"
      }
    },
    {
      "cell_type": "markdown",
      "source": [
        "##1) Phénomène de réflexion et de réfraction\n",
        " **A savoir par 💓** : \n",
        "* La lumière se propage en **ligne droite** dans un milieu *homogène et transparent*.\n",
        "* Lorsqu’elle change de milieu de propagation (passage de l’air à l’eau par exemple), la lumière subit *une réflexion* **et/ou** *une réfraction* (changement de direction de propagation). \n",
        "* La **surface de séparation** entre deux milieux est appelée **dioptre**.\n",
        "\n",
        "<img src=\"https://drive.google.com/uc?id=1pQ2a7jp2B-3CglejCyiDwepGRI5GsfAj\">\n",
        "\n",
        "* Le rayon arrivant sur le dioptre (**rayon incident**), celui qui subit la réflexion (**rayon réfléchi**) et le rayon qui subit la réfraction (**rayon réfracté**) sont **dans le même plan**. \n"
      ],
      "metadata": {
        "id": "ccB91J6DLK92"
      }
    },
    {
      "cell_type": "markdown",
      "source": [
        "##2) Les lois du modèle de la réfraction et de la réflexion\n",
        " **A savoir par 💓** : <p> \n",
        "\n",
        "* L'angle d’incidence **i<sub>1</sub>** est formé par le **rayon incident** et **la normale au dioptre** (*pas le dioptre !*).\n",
        "* L'angle de réfraction **i<sub>2</sub>​** est formé par le **rayon réfracté** et **la normale au dioptre**.\n",
        "* L'angle de réflexion **r**, l’angle formé par le **rayon réfléchi** et **la normale au dioptre**.\n",
        "\n",
        "> Les lois de Snell-Descartes : elles ont été établies indépendamment par Willebrord Snell et René Descartes au XVIIe siècle.<p>\n",
        "1. **Première loi de Snell-Descartes :**<p>\n",
        " le rayon incident, le rayon réfracté, le rayon réfléchi et la normale sont dans le même plan.\n",
        "2. **Deuxièmes lois de Snell-Descartes :**<p>\n",
        "> $\\left\\{\\begin{matrix} r=i_1\\ pour\\ la\\ réflexion  \\\\ n_1×sin(i_1)=n_2×sin(i_2)\\ pour\\ la\\ réfraction \\end{matrix}\\right.$\n",
        "\n",
        "* $n_1$​ et $n_2$​ sont les **indices de réfraction** des milieux 1 et 2 :\n",
        "> L'indice de réfraction nous dit combien de fois la lumière va moins vite dans un milieu que dans le vide:<p>\n",
        "$n_{milieu} = \\cfrac {c_{vide}} {v_{milieu}} > 1\\ $  avec $c_{vide} = c = 3,00×10^8\\ m/s$ la vitesse de la lumière dans le vide et $v_{milieu}$ la vitesse de la lumière dans le milieu (gaz, liquide ou solide).\n",
        "<img src=\"https://drive.google.com/uc?id=1pql48n7tHDQJcnsDVQU26KA1oLzmKu4V\"><p>\n",
        "[Lien vers le TP sur l'indice de réfraction](https://colab.research.google.com/drive/1bZiPSkpr7sH1X28uNX-uCQoNa63p0lX3?usp=sharing)\n",
        "\n",
        "\n",
        "\n",
        "**Remarques:**\n",
        "* L'indice de réfraction de l'air n'est pas exactement égal à 1. Son indice varie avec la température, ce qui provoque des mirages (propagation courbe de la lumière).<p>\n",
        "<img src=\"https://drive.google.com/uc?id=1q1xm5-k0W4DteB6ZiTCeDMdbZk_gw3TH\">\n",
        "\n",
        "* Il existe des milieux biréfringents: il y a deux réfractions, une pour chacune des deux polarisations de l'onde électromagnétique qu'est la lumière. Un filtre polarisant permet de ne voir que l'une ou l'autre. Cliquer sur l'image pour ouvrir une vidéo:<a href=\"https://www.youtube.com/watch?v=ZYbLmDpg8pI\">\n",
        "<img src=\"https://drive.google.com/uc?id=1q-8NmnFts-jS5X0jiyExBhPyFP1_OiM4\"></a>\n",
        "\n"
      ],
      "metadata": {
        "id": "5FrUPLgZYU04"
      }
    },
    {
      "cell_type": "markdown",
      "source": [
        "##3) Dispersion de la lumière\n",
        " \n",
        "* En réalité, l'indice de réfraction dépend de la longueur d’onde de la radiation lumineuse qui le traverse. Chaque couleur est donc réfractée suivant un autre angle.<p>\n",
        "> <img src=\"https://drive.google.com/uc?id=1q7-d8hlzGHVMeua7axKVMnCoUqpW9dqW\">\n",
        "\n",
        "* Il en résulte la dispersion des lumières polychromatiques (composées de plusieurs radiations donc de plusieurs couleurs):\n",
        "> Un prisme permet d'obtenir le spectre de la lumière:<p>\n",
        "<img src=\"https://drive.google.com/uc?id=1q7oIU9WUbL0FCM1WQxXL5Ayl2NJMPSO1\"><p>\n",
        "<a href=\"https://www.vascak.cz/data/android/physicsatschool/template.php?s=opt_hranol&l=fr\">\n",
        "<img height=300 src=\"https://drive.google.com/uc?id=1z-RzVykHkSG8rU9tvLgB4Makmgp00JT0\"><p align=right>Cliquer sur l'image pour ouvrir une animation</a><p>\n",
        "\n",
        "* Il peut permettre d’identifier si une source lumineuse est **monochromatique** ou non: Notre oeil ne fait pas la différence entre de la lumière jaune émise par une lampe à vapeur de sodium (éclairage des rues) et le jaune obtenu en additionnant du vert et du rouge (sur nos écrans).<p>\n",
        "<img src=\"https://drive.google.com/uc?id=1qDGkoZde-meEAjJ8dy-K3aDsZHcStxjk\">\n",
        "\n",
        "**Remarques :**\n",
        "* On voit un arc-en-ciel, lorsque le Soleil est derrière nous et que la lumière nous revient après avoir été décomposée par les gouttes de pluie.<p>\n",
        "<img src=\"https://drive.google.com/uc?id=1qHWEXgXR-c8dA-Z52zmR99zaiiajG_kI\">\n",
        "\n",
        "* La lumière issu d'un L.A.S.E.R. n'est pas décomposée par un prisme puisqu'elle est monochromatique:<p>\n",
        "<img src=\"https://drive.google.com/uc?id=1qQEf2D_67WTpCDerEXkH4X1xJmQSJfYD\">\n",
        "\n",
        "* Un réseau est composé de petites fentes (CD, DVD...) et la lumière est décomposée par **diffraction** avec plusieurs spectres symétriques!<p>\n",
        "<img src=\"https://drive.google.com/uc?id=1pRvCNMpN9AB-VRGojCw__RoeiKmO2RH0\">"
      ],
      "metadata": {
        "id": "58hiHBUmYU91"
      }
    },
    {
      "cell_type": "markdown",
      "source": [
        "##4) Travaux pratiques sur la réflexion, réfraction et dispersion\n",
        "* [Lien vers le TP](https://colab.research.google.com/drive/1bZiPSkpr7sH1X28uNX-uCQoNa63p0lX3)"
      ],
      "metadata": {
        "id": "e6CkCR0VJjKI"
      }
    },
    {
      "cell_type": "markdown",
      "source": [
        "---\n",
        "**Trace écrite:** *Vous devez recopier **à la main** les titres, les schémas et les paragraphes entre ces balises !* <p>\n",
        "#B. Modélisation de l’œil par une lentille"
      ],
      "metadata": {
        "id": "Gc4TfQuGLLGI"
      }
    },
    {
      "cell_type": "markdown",
      "source": [
        "##1) La lentille mince convergente\n",
        "* Une lentille mince est épaisse au milieu et pointue sur les bords, d'où son symbole ↕.\n",
        "* Les rayons lumineux parallèles convergent en un point appelé F', le foyer image (car l'énergie lumineuse peut faire brûler ce qu'on y place).\n",
        "> Plus la lentille est épaisse, plus la distance OF' = f' (distance focale) est courte.<p> La lentille est alors plus convergente.\n",
        "* Si on place une source ponctuelle en F, le symétrique de F' par rapport à O le centre de la lentille, alors ses rayons ressortent parallèles (projecteur lumineux).\n",
        "<img src=\"https://drive.google.com/uc?id=1qXkO8rba-GD0v0pSL3Q0Xc318CZcnS2g\">\n"
      ],
      "metadata": {
        "id": "e1pOVrewLLPe"
      }
    },
    {
      "cell_type": "markdown",
      "source": [
        "##2) Détermination graphique d’une image\n",
        "\n",
        "* AB est un objet lumineux. Le point B émet de la lumière dans toutes les directions. On cherche A'B' l'image de AB à travers la lentille.\n",
        "\n",
        "**A savoir par 💓 :**\n",
        "* 3 rayons principaux:<p>\n",
        ">a) le rayon passant par le centre optique O ne subit aucune déviation ;<p>    b) le rayon arrivant parallèlement à l’axe optique émerge de la lentille en passant par le foyer image F′;<p>\n",
        "c) le rayon passant par le foyer objet F émerge parallèlement à l’axe optique.\n",
        "<a href=\"https://www.pccl.fr/physique_chimie_college_lycee/quatrieme/optique/lentille_convergente_flash.htm\">\n",
        "<img src=\"https://drive.google.com/uc?id=1qRtRLjQT5_nP_Bor2LcPfLasAuXmrTmT\"><p align=\"right\">Cliquer sur l'image pour ouvrir un simulateur.</a>\n",
        "\n",
        "\n",
        "* Après avoir traversé la lentille, ces rayons se croisent en un point B′ qui est l'image de B par la lentille. Le point A étant sur l'axe optique, son image A' l'est également.\n",
        "\n",
        "**A savoir par 💓 :**\n",
        "* **Le grandissement $\\gamma$** (gamma) est défini par le rapport entre la **hauteur algébrique** de l’image et celle de l’objet :<p>\n",
        "> $\\gamma = \\cfrac {\\overline{A'B'}} {\\overline{AB}}$ <p>\n",
        "> * La hauteur algébrique est **positive** pour $\\overline{AB}$ car on va vers le haut de A vers B, et **négative** pour $\\overline{A'B'}$ car on va vers le bas de A' vers B'<p>\n",
        "> * Si $γ<0$ alors l’image est **renversée** par rapport à l’objet et si $γ>0$, on dit que l’image est **droite**.<p>\n",
        "> * Si $∣γ∣>1$ alors l’image est **agrandie** par rapport à l’objet (d'où le nom *grandissement*).\n",
        "\n",
        "* Sur l'image du dessus, $γ ≈ \\cfrac {-1} 2  = -0,5$ : L'image A'B' est renversée et deux fois plus petite que l'objet AB.\n",
        "* Sur l'image du dessous, $γ ≈ \\cfrac {-3,4} 2 =-1,6$ : L'image A'B' est renversée et 1,6 fois plus grande que l'objet AB.\n",
        "\n",
        "<img src=\"https://drive.google.com/uc?id=1Vabyel12_ZqvPBbqClRXU1g92VJbWf0Q\">\n",
        "\n",
        "**Exercice:** Utiliser le théorème de Thales pour retrouver la formule de grandissement:<p>\n",
        "><img src=\"https://drive.google.com/uc?id=1VCPsSTaFq2I0RPafA4wcYivm-KiRXjaq\"><p>\n",
        ">Sur les deux schémas, on compte positif $\\overline{OA'}$ car on va vers la droite comme l'axe optique et $\\overline{OA}$ négatif car on va en sens inverse.\n",
        "> Rappel: le rayon vert est parallèle à l'axe..."
      ],
      "metadata": {
        "id": "bE08yKGsLLXY"
      }
    },
    {
      "cell_type": "markdown",
      "source": [
        "##3) Modèle réduit de l’œil\n",
        "* Pour modéliser l'oeil, on néglige la cornée qui est pourtant responsable d'une grande partie de la convergence de la lumière vers la rétine. C'est la cornée qui est modifiée pour corriger la myopie et se passer de lunettes (divergentes).\n",
        "<img src=\"https://drive.google.com/uc?id=1qa-9KtaB9n6TqKWZhFmdGe974iDdIfMc\">\n",
        "\n",
        "\n",
        "* L'iris joue le rôle d'un diaphragme pour laisser passer plus ou moins de lumière pour ne pas abîmer la rétine (où sont les cellules sensibles à la lumière (les bâtonnets) et aux couleurs (les cônes).\n",
        "* Le cristallin doit se déformer pour que cette lentille convergente aie la bonne distance focale: c'est l'adaptation qui permet d'avoir une image sur la cornée. Avec l'âge, il ne se déforme plus et il faut porter des lunettes convergentes pour voir de près.\n",
        "\n",
        "\n",
        "<a href=\"https://www.vascak.cz/data/android/physicsatschool/template.php?s=opt_akomodace&l=fr\">\n",
        "<img height=400 src=\"https://drive.google.com/uc?id=1z1r_O9akuwYIiTzw0yQ8hDuN8HX6qfaX\"><p align=center>Cliquer sur l'image pour ouvrir une animation</a><p>\n",
        "\n",
        "\n",
        "\n",
        "\n"
      ],
      "metadata": {
        "id": "iXxzxcg0LLgt"
      }
    },
    {
      "cell_type": "markdown",
      "source": [
        "## 4) Travaux pratiques sur les lentilles\n",
        "* [Lien vers le TP sur les lentilles](\"https://colab.research.google.com/drive/1p5X9xVTI9fYKN5A2BjWP_hn_dc9RFP_L?usp=sharing\")"
      ],
      "metadata": {
        "id": "2Iu-R-KRI-gz"
      }
    },
    {
      "cell_type": "markdown",
      "source": [
        "# Résumé et trace écrite\n",
        "<p align=\"right\">N'imprimez que si nécessaire! <a href=\"123\">Version pdf</a></p>\n",
        "\n",
        "#A."
      ],
      "metadata": {
        "id": "SeszKk4eGHa-"
      }
    }
  ]
}